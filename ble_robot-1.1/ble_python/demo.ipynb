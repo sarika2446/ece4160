{
 "cells": [
  {
   "cell_type": "markdown",
   "metadata": {},
   "source": [
    "## Import necessary modules\n",
    "Run this cell before running any other cells"
   ]
  },
  {
   "cell_type": "code",
   "execution_count": 6,
   "metadata": {},
   "outputs": [
    {
     "name": "stdout",
     "output_type": "stream",
     "text": [
      "The autoreload extension is already loaded. To reload it, use:\n",
      "  %reload_ext autoreload\n"
     ]
    }
   ],
   "source": [
    "%load_ext autoreload\n",
    "%autoreload 2\n",
    "\n",
    "from ble import get_ble_controller\n",
    "from base_ble import LOG\n",
    "from cmd_types import CMD\n",
    "import time\n",
    "import numpy as np\n",
    "\n",
    "LOG.propagate = False"
   ]
  },
  {
   "cell_type": "markdown",
   "metadata": {},
   "source": [
    "# Printing and Logging\n",
    "## Printing\n",
    "You can use the **print()** function in Python to print messages to the screen. <br>\n",
    "The message can be a string, or any other object, the object will be converted into a string before it is written to the screen. <br>\n",
    "\n",
    "## Logging\n",
    "You could use the logging module that is setup in *utils.py*. <br>\n",
    "It prints to both your screen (standard output) as well as to log files (*ble.log*) in the *logs* directory. <br>\n",
    "This is the recommended way to output messages, since the log files can help with debugging. <br>\n",
    "The logging module also provides different log levels as shown below, each formatted with a different color for increased visibility. <br>\n",
    "\n",
    "__**NOTE**__: You may notice that the DEBUG message is not printed to the screen but is printed in the log file. This is because the logging level for the screen is set to INFO and for the file is set to DEBUG. You can change the default log levels in *utils.py* (**STREAM_LOG_LEVEL** and **FILE_LOG_LEVEL**). \n",
    "\n",
    "## Formatting output\n",
    "To format your strings, you may use %-formatting, str.format() or f-strings. <br>\n",
    "The most \"pythonic\" way would be to use f-strings. [Here](https://realpython.com/python-f-strings/) is a good tutorial on f-strings. <br>"
   ]
  },
  {
   "cell_type": "code",
   "execution_count": 30,
   "metadata": {},
   "outputs": [
    {
     "name": "stdout",
     "output_type": "stream",
     "text": [
      "2023-02-11 13:11:48,985 |\u001b[32m INFO     \u001b[0m|: info\n",
      "2023-02-11 13:11:48,986 |\u001b[33m WARNING  \u001b[0m|: warning\n",
      "2023-02-11 13:11:48,986 |\u001b[31m ERROR    \u001b[0m|: error\n",
      "2023-02-11 13:11:48,987 |\u001b[31m\u001b[47m\u001b[1m CRITICAL \u001b[0m|: critical\n"
     ]
    }
   ],
   "source": [
    "LOG.debug(\"debug\")\n",
    "LOG.info(\"info\")\n",
    "LOG.warning(\"warning\")\n",
    "LOG.error(\"error\")\n",
    "LOG.critical(\"critical\")"
   ]
  },
  {
   "cell_type": "markdown",
   "metadata": {},
   "source": [
    "<hr>\n",
    "\n",
    "# BLE\n",
    "## ArtemisBLEController\n",
    "The class **ArtemisBLEController** (defined in *ble.py*) provides member functions to handle various BLE operations to send and receive data to/from the Artemis board, provided the accompanying Arduino sketch is running on the Artemis board. <br>\n",
    "\n",
    "<table align=\"left\">\n",
    "     <tr>\n",
    "        <th style=\"text-align: left; font-size: medium\">Member Functions</th>\n",
    "        <th style=\"text-align: left; font-size: medium\">Description</th style=\"text-align: left\">\n",
    "    </tr>\n",
    "    <tr>\n",
    "        <th style=\"text-align: left\"><span style=\"color:rgb(201,152,4);font-family:monospace\">reload_config()</span></th>\n",
    "        <th style=\"text-align: left\"><span style=\"font-weight: normal\">Reload changes made in <em>connection.yaml.</em></span></th style=\"text-align: left\">\n",
    "    </tr>\n",
    "    <tr>\n",
    "        <th style=\"text-align: left\"><span style=\"color:rgb(201,152,4);font-family:monospace\">connect()</span></th>\n",
    "        <th style=\"text-align: left\"><span style=\"font-weight: normal\">Connect to the Artemis board, whose MAC address is specified in <em>connection.yaml</em>.</span></th>\n",
    "    </tr>\n",
    "    <tr>\n",
    "        <th style=\"text-align: left\"><span style=\"color:rgb(201,152,4);font-family:monospace\">disconnect()</span></th>\n",
    "        <th style=\"text-align: left\"><span style=\"font-weight: normal\">Disconnect from the Artemis board.</span></th>\n",
    "    </tr>\n",
    "    <tr>\n",
    "        <th style=\"text-align: left\"><span style=\"color:rgb(201,152,4);font-family:monospace\">is_connected()</span></th>\n",
    "        <th style=\"text-align: left\"><span style=\"font-weight: normal\">Return a boolean indicating whether your controller is connected to the Artemis board or not.</span></th>\n",
    "    </tr>\n",
    "    <tr>\n",
    "        <th style=\"text-align: left\"><span style=\"color:rgb(201,152,4);font-family:monospace\">send_command(cmd_type, data)</span></th>\n",
    "        <th style=\"text-align: left\"><span style=\"font-weight: normal\">Send the command <strong>cmd_type</strong> (integer) with <strong>data</strong> (string) to the Artemis board.</span></th>\n",
    "    </tr>\n",
    "    <tr>\n",
    "        <th style=\"text-align: left\"><span style=\"color:rgb(201,152,4);font-family:monospace\">receive_float(uuid) <br> receive_string(uuid) <br> receive_int(uuid)</span></th>\n",
    "        <th style=\"text-align: left\"><span style=\"font-weight: normal\">Read the GATT characteristic (specified by its <strong>uuid</strong>) of type float, string or int. <br> The type of the GATT\n",
    "            characteristic is determined by the classes BLEFloatCharacteristic, BLECStringCharacteristic or\n",
    "            BLEIntCharacteristic in the Arduino sketch.</span></th>\n",
    "    </tr>\n",
    "    <tr>\n",
    "        <th style=\"text-align: left\"><span style=\"color:rgb(201,152,4);font-family:monospace\">start_notify(uuid, notification_handler)</span></th>\n",
    "        <th style=\"text-align: left\"><span style=\"font-weight: normal\">Activate notifications on the GATT characteristic (specified by its <strong>uuid</strong>). <br> <strong>notification_handler</strong> is a\n",
    "            function callback which must accept two inputs; the first will be a uuid string object and the second will\n",
    "            be the bytearray of the characteristic value.</span></th>\n",
    "    </tr>\n",
    "    <tr>\n",
    "        <th style=\"text-align: left\"><span style=\"color:rgb(201,152,4);font-family:monospace\">bytearray_to_float(byte_array) <br> bytearray_to_string(byte_array) <br> bytearray_to_int(byte_array)</span></th>\n",
    "        <th style=\"text-align: left\"><span style=\"font-weight: normal\">Convert the <strong>bytearray</strong> to float, string or int, respectively. <br> You may use these functions inside your\n",
    "            notification callback function.</span></th>\n",
    "    </tr>\n",
    "    <tr>\n",
    "        <th style=\"text-align: left\"><span style=\"color:rgb(201,152,4);font-family:monospace\">stop_notify(uuid)</span></th>\n",
    "        <th style=\"text-align: left\"><span style=\"font-weight: normal\">Stop notifications on the GATT characteristic (specified by its <strong>uuid</strong>).</span></th>\n",
    "    </tr>\n",
    "</table>\n",
    "\n",
    "<table align=\"left\">\n",
    "     <tr>\n",
    "        <th style=\"text-align: left; font-size: medium\">Member Variables</th>\n",
    "        <th style=\"text-align: left; font-size: medium\">Description</th style=\"text-align: left\">\n",
    "    </tr>\n",
    "    <tr>\n",
    "        <th style=\"text-align: left\"><span style=\"color:rgb(201,152,4);font-family:monospace\">uuid</span></th>\n",
    "        <th style=\"text-align: left\"><span style=\"font-weight: normal\">A dictionary that stores the UUIDs of the various characteristics specified in <em>connection.yaml</em>.</span></th>\n",
    "    </tr>\n",
    "</table>"
   ]
  },
  {
   "cell_type": "markdown",
   "metadata": {},
   "source": [
    "## Configuration\n",
    "- The MAC address, Service UUID and GATT characteristic UUIDs are defined in the file: *connection.yaml*.\n",
    "- They should match the UUIDs used in the Arduino sketch.\n",
    "- The artemis board running the base code should display its MAC address in the serial monitor.\n",
    "- Update the **artemis_address** in *connection.yaml*, accordingly.\n",
    "- Make sure to call **ble.reload_config()** or **get_ble_controller()** (which internally calls **reload_config()**) after making any changes to your configuration file.\n",
    "\n",
    "<hr>"
   ]
  },
  {
   "cell_type": "markdown",
   "metadata": {},
   "source": [
    "In the below cell, we create an **ArtemisBLEController** object using **get_ble_controller()** (defined in *ble.py*), which creates and/or returns a single instance of **ArtemisBLEController**. <br>\n",
    "<span style=\"color:rgb(240,50,50)\"> __NOTE__: Do not use the class directly to instantiate an object. </span><br>"
   ]
  },
  {
   "cell_type": "code",
   "execution_count": 96,
   "metadata": {},
   "outputs": [
    {
     "name": "stdout",
     "output_type": "stream",
     "text": [
      "2023-02-21 22:28:40,691 |\u001b[32m INFO     \u001b[0m|: Looking for Artemis Nano Peripheral Device: c0:83:9:6a:32:3c\n",
      "2023-02-21 22:28:43,438 |\u001b[32m INFO     \u001b[0m|: Connected to c0:83:9:6a:32:3c\n"
     ]
    }
   ],
   "source": [
    "# Get ArtemisBLEController object\n",
    "ble = get_ble_controller()\n",
    "\n",
    "# Connect to the Artemis Device\n",
    "ble.connect()"
   ]
  },
  {
   "cell_type": "markdown",
   "metadata": {},
   "source": [
    "## Receive data from the Artemis board"
   ]
  },
  {
   "cell_type": "markdown",
   "metadata": {},
   "source": [
    "The cell below shows examples of reading different types (as defined in the Arduino sketch) of GATT characteristics."
   ]
  },
  {
   "cell_type": "code",
   "execution_count": 3,
   "metadata": {},
   "outputs": [
    {
     "name": "stdout",
     "output_type": "stream",
     "text": [
      "125.0\n"
     ]
    }
   ],
   "source": [
    "# Read a float GATT Charactersistic\n",
    "f = ble.receive_float(ble.uuid['RX_FLOAT'])\n",
    "print(f)"
   ]
  },
  {
   "cell_type": "code",
   "execution_count": 4,
   "metadata": {},
   "outputs": [
    {
     "name": "stdout",
     "output_type": "stream",
     "text": [
      "[->9.0<-]\n"
     ]
    }
   ],
   "source": [
    "# Read a string GATT Charactersistic\n",
    "s = ble.receive_string(ble.uuid['RX_STRING'])\n",
    "print(s)"
   ]
  },
  {
   "cell_type": "markdown",
   "metadata": {
    "tags": []
   },
   "source": [
    "## Send a command to the Artemis board\n",
    "Send the PING command and read the reply string from the string characteristic RX_STRING. <br>\n",
    "__NOTE__: The **send_command()** essentially sends a string data to the GATT characteristic (TX_CMD_STRING). The GATT characteristic in the Arduino sketch is of type BLECStringCharacteristic."
   ]
  },
  {
   "cell_type": "code",
   "execution_count": 5,
   "metadata": {},
   "outputs": [],
   "source": [
    "ble.send_command(CMD.PING, \"\")"
   ]
  },
  {
   "cell_type": "code",
   "execution_count": 6,
   "metadata": {},
   "outputs": [
    {
     "name": "stdout",
     "output_type": "stream",
     "text": [
      "PONG\n"
     ]
    }
   ],
   "source": [
    "s = ble.receive_string(ble.uuid['RX_STRING'])\n",
    "print(s)"
   ]
  },
  {
   "cell_type": "markdown",
   "metadata": {},
   "source": [
    "The cell below shows an example of the SEND_TWO_INTS command. <br> The two values in the **data** are separated by a delimiter \"|\". <br>\n",
    "Refer Lab 2 documentation for more information on the command protocol."
   ]
  },
  {
   "cell_type": "code",
   "execution_count": 7,
   "metadata": {},
   "outputs": [],
   "source": [
    "ble.send_command(CMD.SEND_TWO_INTS, \"2|-6\")"
   ]
  },
  {
   "cell_type": "markdown",
   "metadata": {},
   "source": [
    "The Artemis board should print the two integers to the serial monitor in the ArduinoIDE. "
   ]
  },
  {
   "cell_type": "code",
   "execution_count": 9,
   "metadata": {},
   "outputs": [],
   "source": [
    "ble.send_command(CMD.ECHO, \"HiHello\")"
   ]
  },
  {
   "cell_type": "code",
   "execution_count": 6,
   "metadata": {},
   "outputs": [
    {
     "name": "stdout",
     "output_type": "stream",
     "text": [
      "HiHello:)\n"
     ]
    }
   ],
   "source": [
    "s = ble.receive_string(ble.uuid['RX_STRING'])\n",
    "print(s)"
   ]
  },
  {
   "cell_type": "code",
   "execution_count": 8,
   "metadata": {},
   "outputs": [],
   "source": [
    "ble.send_command(CMD.GET_TIME_MILLIS, \"\")"
   ]
  },
  {
   "cell_type": "code",
   "execution_count": 9,
   "metadata": {},
   "outputs": [
    {
     "name": "stdout",
     "output_type": "stream",
     "text": [
      "T:264263\n"
     ]
    }
   ],
   "source": [
    "s = ble.receive_string(ble.uuid['RX_STRING'])\n",
    "print(s)"
   ]
  },
  {
   "cell_type": "code",
   "execution_count": 24,
   "metadata": {},
   "outputs": [],
   "source": [
    "string = ''\n",
    "def callback(uuid, byte_array):\n",
    "    global string\n",
    "    string = ble.bytearray_to_string(byte_array)[2:]\n",
    "    \n",
    "ble.start_notify(ble.uuid['RX_STRING'], callback)"
   ]
  },
  {
   "cell_type": "code",
   "execution_count": 26,
   "metadata": {
    "tags": []
   },
   "outputs": [
    {
     "name": "stdout",
     "output_type": "stream",
     "text": [
      "347988\n"
     ]
    }
   ],
   "source": [
    "ble.send_command(CMD.GET_TIME_MILLIS, \"\")\n",
    "print(string)"
   ]
  },
  {
   "cell_type": "code",
   "execution_count": 27,
   "metadata": {
    "tags": []
   },
   "outputs": [],
   "source": [
    "ble.stop_notify(ble.uuid['RX_STRING'])"
   ]
  },
  {
   "cell_type": "markdown",
   "metadata": {},
   "source": [
    "### GET_TEMP_5S"
   ]
  },
  {
   "cell_type": "code",
   "execution_count": 4,
   "metadata": {},
   "outputs": [],
   "source": [
    "string = ''\n",
    "def callback(uuid, byte_array):\n",
    "    global string\n",
    "    string = ble.bytearray_to_string(byte_array)\n",
    "    \n",
    "ble.start_notify(ble.uuid['RX_STRING'], callback)"
   ]
  },
  {
   "cell_type": "code",
   "execution_count": 43,
   "metadata": {},
   "outputs": [
    {
     "name": "stdout",
     "output_type": "stream",
     "text": [
      "T:637683|C:23.790|T:638683|C:23.790|T:639683|C:23.790|T:640683|C:23.790|T:641683|C:23.198|\n"
     ]
    }
   ],
   "source": [
    "ble.send_command(CMD.GET_TEMP_5s, \"\")\n",
    "print(string)"
   ]
  },
  {
   "cell_type": "code",
   "execution_count": 101,
   "metadata": {
    "tags": []
   },
   "outputs": [],
   "source": [
    "ble.stop_notify(ble.uuid['RX_STRING'])"
   ]
  },
  {
   "cell_type": "code",
   "execution_count": 45,
   "metadata": {
    "tags": []
   },
   "outputs": [
    {
     "name": "stdout",
     "output_type": "stream",
     "text": [
      "T:642683|C:23.790|T:643683|C:23.198|T:644683|C:23.198|T:645683|C:23.790|T:646683|C:23.790|\n"
     ]
    }
   ],
   "source": [
    "temps = ble.receive_string(ble.uuid['RX_STRING'])\n",
    "print(temps)"
   ]
  },
  {
   "cell_type": "markdown",
   "metadata": {},
   "source": [
    "### GET_TEMP_5S_RAPID"
   ]
  },
  {
   "cell_type": "code",
   "execution_count": 102,
   "metadata": {},
   "outputs": [],
   "source": [
    "rapid_temps = []\n",
    "def callback(uuid, byte_array):\n",
    "    global string\n",
    "    global rapid_temps\n",
    "    string = ble.bytearray_to_string(byte_array)\n",
    "    rapid_temps.append(string)\n",
    "    \n",
    "ble.start_notify(ble.uuid['RX_STRING'], callback)"
   ]
  },
  {
   "cell_type": "code",
   "execution_count": 103,
   "metadata": {},
   "outputs": [
    {
     "name": "stdout",
     "output_type": "stream",
     "text": [
      "[]\n"
     ]
    }
   ],
   "source": [
    "ble.send_command(CMD.GET_TEMP_5s_RAPID, \"\")\n",
    "print(rapid_temps)"
   ]
  },
  {
   "cell_type": "code",
   "execution_count": 31,
   "metadata": {},
   "outputs": [
    {
     "name": "stdout",
     "output_type": "stream",
     "text": [
      "969\n"
     ]
    }
   ],
   "source": [
    "num_samples = len(rapid_temps)\n",
    "print(num_samples)"
   ]
  },
  {
   "cell_type": "code",
   "execution_count": 104,
   "metadata": {
    "tags": []
   },
   "outputs": [],
   "source": [
    "ble.stop_notify(ble.uuid['RX_STRING'])"
   ]
  },
  {
   "cell_type": "code",
   "execution_count": 3,
   "metadata": {},
   "outputs": [
    {
     "name": "stdout",
     "output_type": "stream",
     "text": [
      "[->9.0<-]\n"
     ]
    }
   ],
   "source": [
    "rapid_temps = ble.receive_string(ble.uuid['RX_STRING'])\n",
    "print(rapid_temps)"
   ]
  },
  {
   "cell_type": "code",
   "execution_count": 105,
   "metadata": {
    "tags": []
   },
   "outputs": [],
   "source": [
    "data_list = []\n",
    "def callback(uuid, byte_array):\n",
    "    global string\n",
    "    global data_list\n",
    "    string = ble.bytearray_to_string(byte_array)\n",
    "    data_list.append(string)\n",
    "    \n",
    "ble.start_notify(ble.uuid['RX_STRING'], callback)"
   ]
  },
  {
   "cell_type": "code",
   "execution_count": 106,
   "metadata": {
    "tags": []
   },
   "outputs": [],
   "source": [
    "ble.send_command(CMD.GET_TOF_IMU, \"\")"
   ]
  },
  {
   "cell_type": "code",
   "execution_count": 107,
   "metadata": {},
   "outputs": [
    {
     "name": "stdout",
     "output_type": "stream",
     "text": [
      "['T:204412|Sensor 1:2072|Sensor 2:0|', 'T:204412|Sensor 1:2072|Sensor 2:0|Pitch:-11864.798|Roll:-5.44|', 'T:204433|Sensor 1:2072|Sensor 2:0|', 'T:204433|Sensor 1:2072|Sensor 2:0|Pitch:-5931.389|Roll:-2.940|', 'T:204454|Sensor 1:2320|Sensor 2:0|', 'T:204454|Sensor 1:2320|Sensor 2:0|Pitch:-2964.444|Roll:-1.752|', 'T:204471|Sensor 1:2320|Sensor 2:0|', 'T:204471|Sensor 1:2320|Sensor 2:0|Pitch:-1480.609|Roll:-1.132|', 'T:204489|Sensor 1:0|Sensor 2:0|', 'T:204489|Sensor 1:0|Sensor 2:0|Pitch:-738.909|Roll:-1.99|', 'T:204510|Sensor 1:0|Sensor 2:0|', 'T:204510|Sensor 1:0|Sensor 2:0|Pitch:-368.351|Roll:0.698|', 'T:204529|Sensor 1:0|Sensor 2:0|', 'T:204529|Sensor 1:0|Sensor 2:0|Pitch:-183.47|Roll:0.714|', 'T:204560|Sensor 1:235|Sensor 2:0|', 'T:204560|Sensor 1:235|Sensor 2:0|Pitch:-91.140|Roll:0.830|', 'T:204577|Sensor 1:235|Sensor 2:0|', 'T:204577|Sensor 1:235|Sensor 2:0|Pitch:-44.608|Roll:0.792|', 'T:204610|Sensor 1:285|Sensor 2:0|', 'T:204610|Sensor 1:285|Sensor 2:0|Pitch:-23.182|Roll:0.610|', 'T:204656|Sensor 1:285|Sensor 2:2360|', 'T:204656|Sensor 1:285|Sensor 2:2360|Pitch:-10.71|Roll:0.453|', 'T:204677|Sensor 1:117|Sensor 2:2360|', 'T:204677|Sensor 1:117|Sensor 2:2360|Pitch:-3.892|Roll:0.725|', 'T:204697|Sensor 1:117|Sensor 2:0|', 'T:204697|Sensor 1:117|Sensor 2:0|Pitch:-1.237|Roll:0.657|', 'T:204740|Sensor 1:2047|Sensor 2:0|', 'T:204740|Sensor 1:2047|Sensor 2:0|Pitch:0.491|Roll:0.857|', 'T:204760|Sensor 1:2047|Sensor 2:0|', 'T:204760|Sensor 1:2047|Sensor 2:0|Pitch:0.169|Roll:0.962|', 'T:204790|Sensor 1:2118|Sensor 2:0|', 'T:204790|Sensor 1:2118|Sensor 2:0|Pitch:0.699|Roll:0.821|', 'T:204819|Sensor 1:2118|Sensor 2:0|', 'T:204819|Sensor 1:2118|Sensor 2:0|Pitch:2.72|Roll:0.718|', 'T:204840|Sensor 1:177|Sensor 2:0|', 'T:204840|Sensor 1:177|Sensor 2:0|Pitch:2.289|Roll:0.785|', 'T:204863|Sensor 1:177|Sensor 2:0|', 'T:204863|Sensor 1:177|Sensor 2:0|Pitch:1.565|Roll:0.902|', 'T:204893|Sensor 1:106|Sensor 2:0|', 'T:204893|Sensor 1:106|Sensor 2:0|Pitch:1.852|Roll:-1.30|', 'T:204934|Sensor 1:0|Sensor 2:0|', 'T:204934|Sensor 1:0|Sensor 2:0|Pitch:-1.213|Roll:0.905|', 'T:204981|Sensor 1:125|Sensor 2:0|', 'T:204981|Sensor 1:125|Sensor 2:0|Pitch:0.744|Roll:0.534|', 'T:205011|Sensor 1:125|Sensor 2:0|', 'T:205011|Sensor 1:125|Sensor 2:0|Pitch:22.596|Roll:17.56|', 'T:205056|Sensor 1:125|Sensor 2:0|', 'T:205056|Sensor 1:125|Sensor 2:0|Pitch:9.62|Roll:38.345|', 'T:205104|Sensor 1:363|Sensor 2:0|', 'T:205104|Sensor 1:363|Sensor 2:0|Pitch:-28.964|Roll:33.936|', 'T:205130|Sensor 1:363|Sensor 2:0|', 'T:205130|Sensor 1:363|Sensor 2:0|Pitch:-17.953|Roll:30.585|', 'T:205173|Sensor 1:1523|Sensor 2:0|', 'T:205173|Sensor 1:1523|Sensor 2:0|Pitch:-58.787|Roll:61.809|', 'T:205192|Sensor 1:1523|Sensor 2:0|', 'T:205192|Sensor 1:1523|Sensor 2:0|Pitch:-108.739|Roll:104.656|', 'T:205224|Sensor 1:768|Sensor 2:0|', 'T:205224|Sensor 1:768|Sensor 2:0|Pitch:-55.930|Roll:50.609|', 'T:205250|Sensor 1:768|Sensor 2:0|', 'T:205250|Sensor 1:768|Sensor 2:0|Pitch:-37.64|Roll:-9.533|', 'T:205268|Sensor 1:1722|Sensor 2:0|', 'T:205268|Sensor 1:1722|Sensor 2:0|Pitch:5.61|Roll:-23.304|', 'T:205286|Sensor 1:1722|Sensor 2:0|', 'T:205286|Sensor 1:1722|Sensor 2:0|Pitch:13.541|Roll:4.133|', 'T:205312|Sensor 1:1986|Sensor 2:0|', 'T:205312|Sensor 1:1986|Sensor 2:0|Pitch:24.22|Roll:-1.480|', 'T:205333|Sensor 1:1986|Sensor 2:0|', 'T:205333|Sensor 1:1986|Sensor 2:0|Pitch:11.283|Roll:-4.353|', 'T:205360|Sensor 1:1601|Sensor 2:0|', 'T:205360|Sensor 1:1601|Sensor 2:0|Pitch:12.262|Roll:1.3|', 'T:205377|Sensor 1:1601|Sensor 2:0|', 'T:205377|Sensor 1:1601|Sensor 2:0|Pitch:10.501|Roll:4.63|', 'T:205405|Sensor 1:1578|Sensor 2:0|', 'T:205405|Sensor 1:1578|Sensor 2:0|Pitch:7.872|Roll:-23.945|', 'T:205431|Sensor 1:1753|Sensor 2:0|', 'T:205431|Sensor 1:1753|Sensor 2:0|Pitch:4.572|Roll:-9.299|', 'T:205462|Sensor 1:1753|Sensor 2:0|', 'T:205462|Sensor 1:1753|Sensor 2:0|Pitch:0.683|Roll:-10.482|', 'T:205481|Sensor 1:1555|Sensor 2:0|', 'T:205481|Sensor 1:1555|Sensor 2:0|Pitch:0.130|Roll:-5.545|', 'T:205502|Sensor 1:1555|Sensor 2:0|', 'T:205502|Sensor 1:1555|Sensor 2:0|Pitch:0.210|Roll:-4.758|', 'T:205540|Sensor 1:1264|Sensor 2:0|', 'T:205540|Sensor 1:1264|Sensor 2:0|Pitch:3.443|Roll:-3.412|', 'T:205561|Sensor 1:1264|Sensor 2:0|', 'T:205561|Sensor 1:1264|Sensor 2:0|Pitch:5.587|Roll:-3.371|', 'T:205580|Sensor 1:1436|Sensor 2:0|', 'T:205580|Sensor 1:1436|Sensor 2:0|Pitch:7.187|Roll:1.313|', 'T:205600|Sensor 1:1436|Sensor 2:0|', 'T:205600|Sensor 1:1436|Sensor 2:0|Pitch:6.863|Roll:-1.77|', 'T:205616|Sensor 1:1432|Sensor 2:0|', 'T:205616|Sensor 1:1432|Sensor 2:0|Pitch:6.669|Roll:-1.303|', 'T:205644|Sensor 1:1432|Sensor 2:0|', 'T:205644|Sensor 1:1432|Sensor 2:0|Pitch:7.347|Roll:-2.519|', 'T:205660|Sensor 1:1432|Sensor 2:0|', 'T:205660|Sensor 1:1432|Sensor 2:0|Pitch:7.931|Roll:-2.377|', 'T:205685|Sensor 1:1265|Sensor 2:0|', 'T:205685|Sensor 1:1265|Sensor 2:0|Pitch:2.739|Roll:-1.529|', 'T:205719|Sensor 1:1429|Sensor 2:0|', 'T:205719|Sensor 1:1429|Sensor 2:0|Pitch:2.539|Roll:0.672|', 'T:205740|Sensor 1:1429|Sensor 2:0|', 'T:205740|Sensor 1:1429|Sensor 2:0|Pitch:2.698|Roll:0.724|', 'T:205776|Sensor 1:1412|Sensor 2:0|', 'T:205776|Sensor 1:1412|Sensor 2:0|Pitch:0.561|Roll:-1.38|', 'T:205806|Sensor 1:1412|Sensor 2:0|', 'T:205806|Sensor 1:1412|Sensor 2:0|Pitch:1.185|Roll:0.749|', 'T:205824|Sensor 1:1265|Sensor 2:0|', 'T:205824|Sensor 1:1265|Sensor 2:0|Pitch:-2.958|Roll:-6.86|', 'T:205854|Sensor 1:1265|Sensor 2:0|', 'T:205854|Sensor 1:1265|Sensor 2:0|Pitch:32.410|Roll:10.311|', 'T:205881|Sensor 1:1631|Sensor 2:0|', 'T:205881|Sensor 1:1631|Sensor 2:0|Pitch:-48.16|Roll:-48.531|', 'T:205898|Sensor 1:1631|Sensor 2:0|', 'T:205898|Sensor 1:1631|Sensor 2:0|Pitch:-74.106|Roll:-79.757|', 'T:205921|Sensor 1:1631|Sensor 2:0|', 'T:205921|Sensor 1:1631|Sensor 2:0|Pitch:42.761|Roll:48.136|', 'T:205958|Sensor 1:2346|Sensor 2:359|', 'T:205958|Sensor 1:2346|Sensor 2:359|Pitch:-19.834|Roll:-3.5|', 'T:205988|Sensor 1:0|Sensor 2:359|', 'T:205988|Sensor 1:0|Sensor 2:359|Pitch:53.761|Roll:-90.195|', 'T:206016|Sensor 1:2290|Sensor 2:384|', 'T:206016|Sensor 1:2290|Sensor 2:384|Pitch:46.621|Roll:-18.207|', 'T:206046|Sensor 1:2275|Sensor 2:384|', 'T:206046|Sensor 1:2275|Sensor 2:384|Pitch:-53.69|Roll:51.236|', 'T:206078|Sensor 1:0|Sensor 2:390|', 'T:206078|Sensor 1:0|Sensor 2:390|Pitch:-13.613|Roll:46.281|', 'T:206122|Sensor 1:0|Sensor 2:448|', 'T:206122|Sensor 1:0|Sensor 2:448|Pitch:67.913|Roll:-41.957|', 'T:206152|Sensor 1:0|Sensor 2:448|', 'T:206152|Sensor 1:0|Sensor 2:448|Pitch:34.157|Roll:-19.653|', 'T:206182|Sensor 1:0|Sensor 2:448|', 'T:206182|Sensor 1:0|Sensor 2:448|Pitch:18.723|Roll:-11.239|', 'T:206204|Sensor 1:0|Sensor 2:421|', 'T:206204|Sensor 1:0|Sensor 2:421|Pitch:10.951|Roll:-5.730|', 'T:206227|Sensor 1:0|Sensor 2:421|', 'T:206227|Sensor 1:0|Sensor 2:421|Pitch:6.936|Roll:-3.943|', 'T:206257|Sensor 1:0|Sensor 2:388|', 'T:206257|Sensor 1:0|Sensor 2:388|Pitch:4.235|Roll:-2.487|', 'T:206274|Sensor 1:0|Sensor 2:388|', 'T:206274|Sensor 1:0|Sensor 2:388|Pitch:3.167|Roll:-2.170|', 'T:206303|Sensor 1:2295|Sensor 2:439|', 'T:206303|Sensor 1:2295|Sensor 2:439|Pitch:0.707|Roll:-1.350|', 'T:206349|Sensor 1:0|Sensor 2:439|', 'T:206349|Sensor 1:0|Sensor 2:439|Pitch:1.987|Roll:-1.532|', 'T:206370|Sensor 1:0|Sensor 2:439|', 'T:206370|Sensor 1:0|Sensor 2:439|Pitch:2.266|Roll:-1.692|', 'T:206386|Sensor 1:0|Sensor 2:439|', 'T:206386|Sensor 1:0|Sensor 2:439|Pitch:1.755|Roll:-1.157|', 'T:206423|Sensor 1:0|Sensor 2:416|', 'T:206423|Sensor 1:0|Sensor 2:416|Pitch:1.693|Roll:-1.355|', 'T:206440|Sensor 1:0|Sensor 2:416|', 'T:206440|Sensor 1:0|Sensor 2:416|Pitch:2.334|Roll:-1.540|', 'T:206482|Sensor 1:0|Sensor 2:407|', 'T:206482|Sensor 1:0|Sensor 2:407|Pitch:1.23|Roll:-1.372|', 'T:206524|Sensor 1:0|Sensor 2:407|', 'T:206524|Sensor 1:0|Sensor 2:407|Pitch:0.754|Roll:-1.332|', 'T:206542|Sensor 1:0|Sensor 2:418|', 'T:206542|Sensor 1:0|Sensor 2:418|Pitch:1.895|Roll:-1.270|', 'T:206561|Sensor 1:0|Sensor 2:418|', 'T:206561|Sensor 1:0|Sensor 2:418|Pitch:2.16|Roll:-1.267|', 'T:206583|Sensor 1:0|Sensor 2:418|', 'T:206583|Sensor 1:0|Sensor 2:418|Pitch:0.954|Roll:-1.376|', 'T:206648|Sensor 1:2339|Sensor 2:422|', 'T:206648|Sensor 1:2339|Sensor 2:422|Pitch:0.173|Roll:-1.350|', 'T:206665|Sensor 1:2339|Sensor 2:422|', 'T:206665|Sensor 1:2339|Sensor 2:422|Pitch:0.792|Roll:0.891|', 'T:206695|Sensor 1:0|Sensor 2:420|', 'T:206695|Sensor 1:0|Sensor 2:420|Pitch:1.707|Roll:-1.151|', 'T:206719|Sensor 1:0|Sensor 2:420|', 'T:206719|Sensor 1:0|Sensor 2:420|Pitch:1.732|Roll:-1.86|', 'T:206741|Sensor 1:0|Sensor 2:420|', 'T:206741|Sensor 1:0|Sensor 2:420|Pitch:1.897|Roll:-1.414|', 'T:206771|Sensor 1:0|Sensor 2:415|', 'T:206771|Sensor 1:0|Sensor 2:415|Pitch:0.858|Roll:-1.220|', 'T:206812|Sensor 1:0|Sensor 2:415|', 'T:206812|Sensor 1:0|Sensor 2:415|Pitch:0.825|Roll:-1.119|', 'T:206841|Sensor 1:0|Sensor 2:415|', 'T:206841|Sensor 1:0|Sensor 2:415|Pitch:2.135|Roll:-1.290|', 'T:206874|Sensor 1:0|Sensor 2:406|', 'T:206874|Sensor 1:0|Sensor 2:406|Pitch:0.726|Roll:-1.221|', 'T:206900|Sensor 1:0|Sensor 2:406|', 'T:206900|Sensor 1:0|Sensor 2:406|Pitch:1.638|Roll:-1.228|', 'T:206920|Sensor 1:0|Sensor 2:413|', 'T:206920|Sensor 1:0|Sensor 2:413|Pitch:2.188|Roll:-1.398|', 'T:206936|Sensor 1:0|Sensor 2:413|', 'T:206936|Sensor 1:0|Sensor 2:413|Pitch:1.110|Roll:-1.180|', 'T:206979|Sensor 1:0|Sensor 2:413|', 'T:206979|Sensor 1:0|Sensor 2:413|Pitch:1.53|Roll:-1.35|', 'T:207035|Sensor 1:0|Sensor 2:410|', 'T:207035|Sensor 1:0|Sensor 2:410|Pitch:0.858|Roll:-1.175|', 'T:207068|Sensor 1:0|Sensor 2:410|', 'T:207068|Sensor 1:0|Sensor 2:410|Pitch:1.168|Roll:0.983|', 'T:207084|Sensor 1:0|Sensor 2:412|', 'T:207084|Sensor 1:0|Sensor 2:412|Pitch:1.835|Roll:-1.21|', 'T:207113|Sensor 1:2347|Sensor 2:412|', 'T:207113|Sensor 1:2347|Sensor 2:412|Pitch:17.31|Roll:-5.244|', 'T:207159|Sensor 1:0|Sensor 2:428|', 'T:207159|Sensor 1:0|Sensor 2:428|Pitch:-30.758|Roll:-44.892|', 'T:207183|Sensor 1:0|Sensor 2:428|', 'T:207183|Sensor 1:0|Sensor 2:428|Pitch:-23.759|Roll:-17.136|', 'T:207234|Sensor 1:0|Sensor 2:410|', 'T:207234|Sensor 1:0|Sensor 2:410|Pitch:-16.497|Roll:-17.890|', 'T:207261|Sensor 1:0|Sensor 2:410|', 'T:207261|Sensor 1:0|Sensor 2:410|Pitch:5.525|Roll:-1.77|', 'T:207293|Sensor 1:0|Sensor 2:412|', 'T:207293|Sensor 1:0|Sensor 2:412|Pitch:44.262|Roll:41.152|', 'T:207314|Sensor 1:0|Sensor 2:412|', 'T:207314|Sensor 1:0|Sensor 2:412|Pitch:11.186|Roll:20.14|', 'T:207337|Sensor 1:0|Sensor 2:412|', 'T:207337|Sensor 1:0|Sensor 2:412|Pitch:-23.259|Roll:32.637|', 'T:207359|Sensor 1:0|Sensor 2:419|', 'T:207359|Sensor 1:0|Sensor 2:419|Pitch:26.432|Roll:49.924|', 'T:207380|Sensor 1:2241|Sensor 2:419|', 'T:207380|Sensor 1:2241|Sensor 2:419|Pitch:-18.969|Roll:-11.785|', 'T:207397|Sensor 1:2241|Sensor 2:419|', 'T:207397|Sensor 1:2241|Sensor 2:419|Pitch:-12.202|Roll:-9.846|', 'T:207416|Sensor 1:2202|Sensor 2:386|', 'T:207416|Sensor 1:2202|Sensor 2:386|Pitch:7.257|Roll:-14.65|', 'T:207435|Sensor 1:2202|Sensor 2:386|', 'T:207435|Sensor 1:2202|Sensor 2:386|Pitch:33.920|Roll:25.362|', 'T:207453|Sensor 1:2207|Sensor 2:386|', 'T:207453|Sensor 1:2207|Sensor 2:386|Pitch:-22.267|Roll:52.811|', 'T:207473|Sensor 1:2207|Sensor 2:492|', 'T:207473|Sensor 1:2207|Sensor 2:492|Pitch:-36.86|Roll:47.610|', 'T:207494|Sensor 1:2162|Sensor 2:492|', 'T:207494|Sensor 1:2162|Sensor 2:492|Pitch:25.749|Roll:69.199|', 'T:207515|Sensor 1:2162|Sensor 2:492|', 'T:207515|Sensor 1:2162|Sensor 2:492|Pitch:28.22|Roll:37.7|', 'T:207535|Sensor 1:2144|Sensor 2:484|', 'T:207535|Sensor 1:2144|Sensor 2:484|Pitch:53.94|Roll:47.907|', 'T:207551|Sensor 1:2144|Sensor 2:484|', 'T:207551|Sensor 1:2144|Sensor 2:484|Pitch:10.33|Roll:9.659|', 'T:207581|Sensor 1:2077|Sensor 2:410|', 'T:207581|Sensor 1:2077|Sensor 2:410|Pitch:-13.396|Roll:-4.385|', 'T:207599|Sensor 1:2077|Sensor 2:410|', 'T:207599|Sensor 1:2077|Sensor 2:410|Pitch:-15.610|Roll:-5.152|', 'T:207622|Sensor 1:2014|Sensor 2:410|', 'T:207622|Sensor 1:2014|Sensor 2:410|Pitch:-7.501|Roll:-14.724|', 'T:207646|Sensor 1:2014|Sensor 2:442|', 'T:207646|Sensor 1:2014|Sensor 2:442|Pitch:1.981|Roll:-22.941|', 'T:207669|Sensor 1:1914|Sensor 2:442|', 'T:207669|Sensor 1:1914|Sensor 2:442|Pitch:-3.893|Roll:10.820|', 'T:207696|Sensor 1:1611|Sensor 2:414|', 'T:207696|Sensor 1:1611|Sensor 2:414|Pitch:-3.235|Roll:6.55|', 'T:207725|Sensor 1:1611|Sensor 2:414|', 'T:207725|Sensor 1:1611|Sensor 2:414|Pitch:1.329|Roll:-13.750|', 'T:207746|Sensor 1:1611|Sensor 2:457|', 'T:207746|Sensor 1:1611|Sensor 2:457|Pitch:-5.779|Roll:-12.333|', 'T:207774|Sensor 1:1452|Sensor 2:457|', 'T:207774|Sensor 1:1452|Sensor 2:457|Pitch:0.135|Roll:-11.174|', 'T:207812|Sensor 1:1452|Sensor 2:424|', 'T:207812|Sensor 1:1452|Sensor 2:424|Pitch:56.486|Roll:74.451|', 'T:207843|Sensor 1:1199|Sensor 2:424|', 'T:207843|Sensor 1:1199|Sensor 2:424|Pitch:42.572|Roll:26.939|', 'T:207875|Sensor 1:1199|Sensor 2:448|', 'T:207875|Sensor 1:1199|Sensor 2:448|Pitch:16.108|Roll:6.540|', 'T:207905|Sensor 1:1145|Sensor 2:448|', 'T:207905|Sensor 1:1145|Sensor 2:448|Pitch:20.694|Roll:3.395|', 'T:207938|Sensor 1:1145|Sensor 2:467|', 'T:207938|Sensor 1:1145|Sensor 2:467|Pitch:18.421|Roll:-11.118|', 'T:207965|Sensor 1:1115|Sensor 2:467|', 'T:207965|Sensor 1:1115|Sensor 2:467|Pitch:16.976|Roll:-12.572|', 'T:207997|Sensor 1:1115|Sensor 2:458|', 'T:207997|Sensor 1:1115|Sensor 2:458|Pitch:3.647|Roll:-4.509|', 'T:208015|Sensor 1:1085|Sensor 2:458|', 'T:208015|Sensor 1:1085|Sensor 2:458|Pitch:6.575|Roll:-2.26|', 'T:208041|Sensor 1:1085|Sensor 2:455|', 'T:208041|Sensor 1:1085|Sensor 2:455|Pitch:6.238|Roll:2.9|', 'T:208088|Sensor 1:1068|Sensor 2:455|', 'T:208088|Sensor 1:1068|Sensor 2:455|Pitch:13.274|Roll:-2.0|', 'T:208109|Sensor 1:1068|Sensor 2:455|', 'T:208109|Sensor 1:1068|Sensor 2:455|Pitch:14.351|Roll:-2.187|', 'T:208133|Sensor 1:1042|Sensor 2:454|', 'T:208133|Sensor 1:1042|Sensor 2:454|Pitch:14.279|Roll:0.699|', 'T:208162|Sensor 1:1042|Sensor 2:454|', 'T:208162|Sensor 1:1042|Sensor 2:454|Pitch:9.612|Roll:0.482|', 'T:208183|Sensor 1:1042|Sensor 2:460|', 'T:208183|Sensor 1:1042|Sensor 2:460|Pitch:6.438|Roll:-1.375|', 'T:208218|Sensor 1:1032|Sensor 2:460|', 'T:208218|Sensor 1:1032|Sensor 2:460|Pitch:6.42|Roll:-1.707|', 'T:208266|Sensor 1:1024|Sensor 2:449|', 'T:208266|Sensor 1:1024|Sensor 2:449|Pitch:3.517|Roll:-1.292|', 'T:208323|Sensor 1:1024|Sensor 2:451|', 'T:208323|Sensor 1:1024|Sensor 2:451|Pitch:0.11|Roll:-1.12|', 'T:208371|Sensor 1:1023|Sensor 2:439|', 'T:208371|Sensor 1:1023|Sensor 2:439|Pitch:0.402|Roll:0.855|', 'T:208415|Sensor 1:1023|Sensor 2:439|', 'T:208415|Sensor 1:1023|Sensor 2:439|Pitch:0.718|Roll:0.979|', 'T:208471|Sensor 1:1024|Sensor 2:455|', 'T:208471|Sensor 1:1024|Sensor 2:455|Pitch:-1.75|Roll:0.786|', 'T:208520|Sensor 1:1025|Sensor 2:438|', 'T:208520|Sensor 1:1025|Sensor 2:438|Pitch:-1.2|Roll:0.621|', 'T:208553|Sensor 1:1025|Sensor 2:438|', 'T:208553|Sensor 1:1025|Sensor 2:438|Pitch:0.680|Roll:0.593|', 'T:208593|Sensor 1:1030|Sensor 2:451|', 'T:208593|Sensor 1:1030|Sensor 2:451|Pitch:0.658|Roll:0.644|', 'T:208640|Sensor 1:1030|Sensor 2:440|', 'T:208640|Sensor 1:1030|Sensor 2:440|Pitch:1.248|Roll:0.847|', 'T:208659|Sensor 1:1026|Sensor 2:440|', 'T:208659|Sensor 1:1026|Sensor 2:440|Pitch:0.434|Roll:0.841|', 'T:208713|Sensor 1:1024|Sensor 2:446|', 'T:208713|Sensor 1:1024|Sensor 2:446|Pitch:0.0|Roll:0.649|', 'T:208746|Sensor 1:1024|Sensor 2:446|', 'T:208746|Sensor 1:1024|Sensor 2:446|Pitch:0.849|Roll:0.898|', 'T:208778|Sensor 1:1024|Sensor 2:430|', 'T:208778|Sensor 1:1024|Sensor 2:430|Pitch:0.891|Roll:0.421|', 'T:208839|Sensor 1:1026|Sensor 2:444|', 'T:208839|Sensor 1:1026|Sensor 2:444|Pitch:0.442|Roll:0.90|', 'T:208884|Sensor 1:1026|Sensor 2:444|', 'T:208884|Sensor 1:1026|Sensor 2:444|Pitch:-3.424|Roll:0.629|', 'T:208957|Sensor 1:1025|Sensor 2:444|', 'T:208957|Sensor 1:1025|Sensor 2:444|Pitch:0.592|Roll:0.819|', 'T:208979|Sensor 1:1025|Sensor 2:444|', 'T:208979|Sensor 1:1025|Sensor 2:444|Pitch:0.785|Roll:0.705|', 'T:209002|Sensor 1:1025|Sensor 2:444|', 'T:209002|Sensor 1:1025|Sensor 2:444|Pitch:1.400|Roll:0.393|', 'T:209022|Sensor 1:1026|Sensor 2:446|', 'T:209022|Sensor 1:1026|Sensor 2:446|Pitch:1.180|Roll:0.582|', 'T:209077|Sensor 1:1028|Sensor 2:446|', 'T:209077|Sensor 1:1028|Sensor 2:446|Pitch:0.622|Roll:0.453|', 'T:209095|Sensor 1:1028|Sensor 2:446|', 'T:209095|Sensor 1:1028|Sensor 2:446|Pitch:1.256|Roll:0.669|', 'T:209123|Sensor 1:1028|Sensor 2:448|', 'T:209123|Sensor 1:1028|Sensor 2:448|Pitch:1.598|Roll:0.805|', 'T:209152|Sensor 1:1027|Sensor 2:448|', 'T:209152|Sensor 1:1027|Sensor 2:448|Pitch:1.836|Roll:0.603|', 'T:209175|Sensor 1:1027|Sensor 2:448|', 'T:209175|Sensor 1:1027|Sensor 2:448|Pitch:0.961|Roll:0.558|', 'T:209213|Sensor 1:1025|Sensor 2:458|', 'T:209213|Sensor 1:1025|Sensor 2:458|Pitch:1.305|Roll:0.143|', 'T:209241|Sensor 1:1025|Sensor 2:458|', 'T:209241|Sensor 1:1025|Sensor 2:458|Pitch:0.939|Roll:0.371|', 'T:209272|Sensor 1:1026|Sensor 2:439|', 'T:209272|Sensor 1:1026|Sensor 2:439|Pitch:2.104|Roll:0.280|', 'T:209291|Sensor 1:1026|Sensor 2:439|', 'T:209291|Sensor 1:1026|Sensor 2:439|Pitch:16.108|Roll:-9.787|', 'T:209348|Sensor 1:1024|Sensor 2:439|', 'T:209348|Sensor 1:1024|Sensor 2:439|Pitch:81.897|Roll:61.551|', 'T:209376|Sensor 1:1024|Sensor 2:439|', 'T:209376|Sensor 1:1024|Sensor 2:439|Pitch:-16.540|Roll:85.910|', 'T:209404|Sensor 1:985|Sensor 2:440|', 'T:209404|Sensor 1:985|Sensor 2:440|Pitch:53.605|Roll:132.584|']\n"
     ]
    }
   ],
   "source": [
    "s = ble.receive_string(ble.uuid['RX_STRING'])\n",
    "print(data_list)"
   ]
  },
  {
   "cell_type": "markdown",
   "metadata": {},
   "source": [
    "## Disconnect"
   ]
  },
  {
   "cell_type": "code",
   "execution_count": 76,
   "metadata": {
    "tags": []
   },
   "outputs": [
    {
     "name": "stdout",
     "output_type": "stream",
     "text": [
      "2023-02-21 22:24:54,362 |\u001b[32m INFO     \u001b[0m|: Disconnected from 696B5A40-E16D-9AF3-A22D-7B719373B996\n"
     ]
    }
   ],
   "source": [
    "# Disconnect\n",
    "ble.disconnect()"
   ]
  },
  {
   "cell_type": "code",
   "execution_count": null,
   "metadata": {},
   "outputs": [],
   "source": []
  }
 ],
 "metadata": {
  "kernelspec": {
   "display_name": "Python 3 (ipykernel)",
   "language": "python",
   "name": "python3"
  },
  "language_info": {
   "codemirror_mode": {
    "name": "ipython",
    "version": 3
   },
   "file_extension": ".py",
   "mimetype": "text/x-python",
   "name": "python",
   "nbconvert_exporter": "python",
   "pygments_lexer": "ipython3",
   "version": "3.11.1"
  }
 },
 "nbformat": 4,
 "nbformat_minor": 4
}
